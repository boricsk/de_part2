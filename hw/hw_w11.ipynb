{
 "cells": [
  {
   "cell_type": "code",
   "execution_count": null,
   "metadata": {},
   "outputs": [],
   "source": [
    "/*\n",
    "Which 10 companies make the most money? Company name and the sum \n",
    "of the fare needed only order by descending order for the fares.\n",
    "*/\n",
    "\n",
    "SELECT \n",
    "    pt.payment_type,\n",
    "    c.company,\n",
    "    sum(tt.trip_total) as trip_total\n",
    "FROM chicago_taxi_db.taxi_trips as tt\n",
    "inner join chicago_taxi_db.payment_type as pt on pt.payment_type_id = tt.payment_type_id\n",
    "inner join chicago_taxi_db.company as c on c.company_id = tt.company_id\n",
    "group by c.company, pt.payment_type \n",
    "order by sum(tt.trip_total) desc\n",
    "limit 10"
   ]
  },
  {
   "cell_type": "code",
   "execution_count": null,
   "metadata": {},
   "outputs": [],
   "source": [
    "/*\n",
    "Show the 10 pickup community areas with the most rides. Community area \n",
    "name and count of rides, descending order for the rides.\n",
    "*/\n",
    "\n",
    "SELECT \n",
    "    ca.community_name,\n",
    "    count(pickup_community_area_id) as pickup_number\n",
    "FROM chicago_taxi_db.taxi_trips as tt\n",
    "inner join chicago_taxi_db.community_areas as ca on ca.area_code = tt.pickup_community_area_id\n",
    "group by ca.community_name\n",
    "order by count(pickup_community_area_id) desc\n",
    "limit 10"
   ]
  },
  {
   "cell_type": "code",
   "execution_count": null,
   "metadata": {},
   "outputs": [],
   "source": [
    "/*\n",
    "Get the daily count of the taxi rides. Use the names of the days instead of \n",
    "numbers (Monday = 1, Tuesday = 2, etc.).\n",
    "*/\n",
    "\n",
    "SELECT \n",
    "    case dt.\"day of name\" \n",
    "        when 'Saturday' then 'Szombat'\n",
    "        when 'Friday' then 'Péntek'\n",
    "        when 'Monday' then 'Hétfő'\n",
    "        when 'Tuesday' then 'Kedd'\n",
    "        when 'Wednesday' then 'Szerda'\n",
    "        when 'Thursday' then 'Csütörtük'\n",
    "        when 'Sunday' then 'Vasárnap'\n",
    "        else 'Days of Schrödinger'\n",
    "    end as \"Hungarian days\",\n",
    "    count(pickup_community_area_id) as pickup_number\n",
    "FROM chicago_taxi_db.taxi_trips as tt\n",
    "inner join chicago_taxi_db.date as dt on dt.date = date(tt.trip_start_timestamp)\n",
    "group by dt.\"day of name\", dt.day\n",
    "order by dt.day"
   ]
  }
 ],
 "metadata": {
  "language_info": {
   "name": "python"
  }
 },
 "nbformat": 4,
 "nbformat_minor": 2
}
