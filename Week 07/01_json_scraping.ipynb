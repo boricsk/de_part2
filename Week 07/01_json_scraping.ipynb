{
 "cells": [
  {
   "cell_type": "code",
   "execution_count": null,
   "metadata": {},
   "outputs": [],
   "source": [
    "import json"
   ]
  },
  {
   "cell_type": "code",
   "execution_count": null,
   "metadata": {},
   "outputs": [],
   "source": [
    "file_path = r'../data/spotify_playlist.json'\n",
    "with open(file_path) as json_file:\n",
    "    data = json.load(json_file)"
   ]
  },
  {
   "cell_type": "code",
   "execution_count": 35,
   "metadata": {},
   "outputs": [
    {
     "name": "stdout",
     "output_type": "stream",
     "text": [
      "Number is out of range\n",
      "Number is out of range\n",
      "Name of 31 track is : Style\n"
     ]
    }
   ],
   "source": [
    "#Print name of tracks\n",
    "input_flag = False\n",
    "while (not input_flag):\n",
    "    try:\n",
    "        tracknum = int(input(\"Enter the number of track\"))\n",
    "        if tracknum > len(data['contents']['items']):\n",
    "            print(\"Number is out of range\")  \n",
    "        else: \n",
    "            print(f'Name of {tracknum} track is : {data['contents']['items'][tracknum - 1]['name']}')\n",
    "            input_flag = True\n",
    "    except:\n",
    "        print(\"Enter integer number.\")\n"
   ]
  },
  {
   "cell_type": "code",
   "execution_count": 9,
   "metadata": {},
   "outputs": [
    {
     "name": "stdout",
     "output_type": "stream",
     "text": [
      "31309112207\n"
     ]
    }
   ],
   "source": [
    "#Total playcount\n",
    "ttl_playcount = 0\n",
    "for track in data['contents']['items']:\n",
    "    ttl_playcount +=track['playCount']\n",
    "\n",
    "print(ttl_playcount)"
   ]
  },
  {
   "cell_type": "code",
   "execution_count": 18,
   "metadata": {},
   "outputs": [
    {
     "name": "stdout",
     "output_type": "stream",
     "text": [
      "The lowest playcount song is : Si No Estás Playcount is : 24413575\n"
     ]
    }
   ],
   "source": [
    "#Which track has the lowest playcount? Print it out in this format \"The lowest \n",
    "#playcount is {song_name}.\" Hint: Use \"f string\"\n",
    "playcounts = []\n",
    "song_names = []\n",
    "\n",
    "for track in data['contents']['items']:\n",
    "    playcounts.append(track['playCount'])\n",
    "    song_names.append(track['name'])\n",
    "\n",
    "result = dict(zip(playcounts, song_names))\n",
    "print(f'The lowest playcount song is : {result[min(playcounts)]}, Playcount is : {min(playcounts)}')"
   ]
  }
 ],
 "metadata": {
  "kernelspec": {
   "display_name": "venv",
   "language": "python",
   "name": "python3"
  },
  "language_info": {
   "codemirror_mode": {
    "name": "ipython",
    "version": 3
   },
   "file_extension": ".py",
   "mimetype": "text/x-python",
   "name": "python",
   "nbconvert_exporter": "python",
   "pygments_lexer": "ipython3",
   "version": "3.12.3"
  }
 },
 "nbformat": 4,
 "nbformat_minor": 2
}
