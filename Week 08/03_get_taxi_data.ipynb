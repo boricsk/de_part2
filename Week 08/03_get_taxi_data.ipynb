{
 "cells": [
  {
   "cell_type": "code",
   "execution_count": 1,
   "metadata": {},
   "outputs": [],
   "source": [
    "import json\n",
    "import os\n",
    "import pandas as pd\n",
    "import requests"
   ]
  },
  {
   "cell_type": "code",
   "execution_count": 2,
   "metadata": {},
   "outputs": [],
   "source": [
    "#Ez csak 1 utazást ad vissza\n",
    "url = 'https://data.cityofchicago.org/resource/wrvz-psew.json?trip_id=00000019ef3c0b419a9e6b1843b83530b79627a4'"
   ]
  },
  {
   "cell_type": "code",
   "execution_count": 8,
   "metadata": {},
   "outputs": [],
   "source": [
    "headers = {\"X-App-Token\": os.environ.get(\"CHICAGO_API_TOKEN\")}\n",
    "response = requests.get(url, headers)\n",
    "data = response.json()"
   ]
  },
  {
   "cell_type": "code",
   "execution_count": 9,
   "metadata": {},
   "outputs": [
    {
     "data": {
      "text/plain": [
       "[{'trip_id': '00000019ef3c0b419a9e6b1843b83530b79627a4',\n",
       "  'taxi_id': 'bda916a4fa3043f7e827751d9d8cada1239d574beb206d846e1d7d425b658d56aa23393b6866d3a19f9dca6c32d3a8642f14361c5d58dccebd42e398fee18e94',\n",
       "  'trip_start_timestamp': '2023-12-11T16:15:00.000',\n",
       "  'trip_end_timestamp': '2023-12-11T17:00:00.000',\n",
       "  'trip_seconds': '2572',\n",
       "  'trip_miles': '17.56',\n",
       "  'pickup_census_tract': '17031980000',\n",
       "  'dropoff_census_tract': '17031081700',\n",
       "  'pickup_community_area': '76',\n",
       "  'dropoff_community_area': '8',\n",
       "  'fare': '43.75',\n",
       "  'tips': '12.06',\n",
       "  'tolls': '0',\n",
       "  'extras': '4',\n",
       "  'trip_total': '60.31',\n",
       "  'payment_type': 'Credit Card',\n",
       "  'company': 'Taxicab Insurance Agency Llc',\n",
       "  'pickup_centroid_latitude': '41.97907082',\n",
       "  'pickup_centroid_longitude': '-87.903039661',\n",
       "  'pickup_centroid_location': {'type': 'Point',\n",
       "   'coordinates': [-87.9030396611, 41.9790708201]},\n",
       "  'dropoff_centroid_latitude': '41.892042136',\n",
       "  'dropoff_centroid_longitude': '-87.63186395',\n",
       "  'dropoff_centroid_location': {'type': 'Point',\n",
       "   'coordinates': [-87.6318639497, 41.8920421365]}}]"
      ]
     },
     "execution_count": 9,
     "metadata": {},
     "output_type": "execute_result"
    }
   ],
   "source": [
    "data"
   ]
  }
 ],
 "metadata": {
  "kernelspec": {
   "display_name": "Python 3",
   "language": "python",
   "name": "python3"
  },
  "language_info": {
   "codemirror_mode": {
    "name": "ipython",
    "version": 3
   },
   "file_extension": ".py",
   "mimetype": "text/x-python",
   "name": "python",
   "nbconvert_exporter": "python",
   "pygments_lexer": "ipython3",
   "version": "3.12.3"
  }
 },
 "nbformat": 4,
 "nbformat_minor": 2
}
